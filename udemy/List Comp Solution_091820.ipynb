{
 "cells": [
  {
   "cell_type": "code",
   "execution_count": 2,
   "metadata": {},
   "outputs": [
    {
     "name": "stdout",
     "output_type": "stream",
     "text": [
      "[30, 31, 32, 33, 34, 35, 36, 37, 38, 39]\n"
     ]
    }
   ],
   "source": [
    "#Task 1 convert for loop to list comp\n",
    "simple = [i+30 for i in range(10)]\n",
    "print(simple)"
   ]
  },
  {
   "cell_type": "code",
   "execution_count": 28,
   "metadata": {},
   "outputs": [
    {
     "name": "stdout",
     "output_type": "stream",
     "text": [
      "['The number is 0', 'The number is 2', 'The number is 4', 'The number is 6', 'The number is 8']\n"
     ]
    }
   ],
   "source": [
    "# Task 2 convert while loop into list comp\n",
    "case = [\"The number is \" + str(x) for x in range(0,10) if x % 2 == 0]\n",
    "print(case)"
   ]
  },
  {
   "cell_type": "code",
   "execution_count": 30,
   "metadata": {},
   "outputs": [
    {
     "data": {
      "text/plain": [
       "[1728, 2744, 4096, 5832]"
      ]
     },
     "execution_count": 30,
     "metadata": {},
     "output_type": "execute_result"
    }
   ],
   "source": [
    "# Task 3 control flow with modulus in list Comp\n",
    "[d**3 for d in range(20) if d >10 and d % 2 == 0]\n"
   ]
  },
  {
   "cell_type": "code",
   "execution_count": 35,
   "metadata": {},
   "outputs": [
    {
     "name": "stdout",
     "output_type": "stream",
     "text": [
      "{'k3': 495}\n"
     ]
    }
   ],
   "source": [
    "# Task 4 Create 2 nested list Comp inside a dict\n",
    "\n",
    "d2 = {\"k1\": [g + 20*g for g in range(10) if g <5],\"k2\": [e*e for e in range(20) if e <10]}\n",
    "d3 = {\"k3\": sum(d2[\"k1\"]) + sum(d2[\"k2\"])}\n",
    "print(d3)"
   ]
  }
 ],
 "metadata": {
  "kernelspec": {
   "display_name": "Python 3",
   "language": "python",
   "name": "python3"
  },
  "language_info": {
   "codemirror_mode": {
    "name": "ipython",
    "version": 3
   },
   "file_extension": ".py",
   "mimetype": "text/x-python",
   "name": "python",
   "nbconvert_exporter": "python",
   "pygments_lexer": "ipython3",
   "version": "3.7.6"
  }
 },
 "nbformat": 4,
 "nbformat_minor": 4
}
