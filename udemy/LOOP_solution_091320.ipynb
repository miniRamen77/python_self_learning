{
 "cells": [
  {
   "cell_type": "code",
   "execution_count": 17,
   "metadata": {
    "scrolled": true
   },
   "outputs": [
    {
     "data": {
      "text/plain": [
       "[0, 50, 100, 150, 200, 250]"
      ]
     },
     "execution_count": 17,
     "metadata": {},
     "output_type": "execute_result"
    }
   ],
   "source": [
    "### Task 1 to convert from for loop to while loop with desired outcome\n",
    "numbers = list(range(0, 110, 10))\n",
    "x = 0\n",
    "newlist = []\n",
    "while x < len(numbers):\n",
    "    t = int(numbers[x]*2.5)\n",
    "    \n",
    "    # this is modolo function checking even number and added to newlist \n",
    "    if t % 2 == 0:\n",
    "        newlist.append(t)\n",
    "    x += 1\n",
    "\n",
    "newlist\n",
    "\n"
   ]
  },
  {
   "cell_type": "code",
   "execution_count": 24,
   "metadata": {},
   "outputs": [
    {
     "name": "stdout",
     "output_type": "stream",
     "text": [
      "Joe is a replicant\n",
      "Mike is NOT a replicant\n",
      "Joi is a replicant\n",
      "Luv is a replicant\n",
      "Deckard is NOT a replicant\n",
      "Wallace is NOT a replicant\n",
      "Rachel is a replicant\n"
     ]
    }
   ],
   "source": [
    "### Task 2 Use LEN with control flow with for loop \n",
    "### Answer 1 using LEN\n",
    "\n",
    "rep = [\"Joe\", \"K\", \"Mike\", \"Joi\", \"Luv\", \"Deckard\", \"Wallace\", \"Rachel\"]\n",
    "\n",
    "for i in rep:\n",
    "    if len(i) == 3 or len(i) == 6 or len(i) == 1:\n",
    "        print (i, \"is a replicant\")\n",
    "    \n",
    "    else: \n",
    "        pritn(i, \"is NOT a replicant\")\n",
    "\n",
    "\n",
    "\n",
    "### Answer2 without using LEN\n",
    "\n",
    "rep = [\"Joe\", \"K\", \"Mike\", \"Joi\", \"Luv\", \"Deckard\", \"Wallace\", \"Rachel\"]\n",
    "\n",
    "for i in range(rep):\n",
    "    if i == 0 or i == 3 or i == 4 or i == 7:\n",
    "        print (rep[i],\"is a replicant\")\n",
    "    elif i == 2 or i == 5 or i == 6:\n",
    "        print (rep[i], \"is NOT a replicant\")\n"
   ]
  },
  {
   "cell_type": "code",
   "execution_count": 26,
   "metadata": {},
   "outputs": [
    {
     "name": "stdout",
     "output_type": "stream",
     "text": [
      "Human\n",
      "Question\n",
      "CELL WITHIN CELLS\n",
      "Question\n",
      "INTERLINKED\n",
      "Question\n",
      "CELL\n",
      "Question\n",
      "CELL WITHIN CELLS\n",
      "Question\n",
      "CELL WITHIN CELLS\n",
      "Question\n",
      "INTERLINKED\n",
      "Question\n",
      "CELL\n",
      "Question\n",
      "CELL WITHIN CELLS\n",
      "Time to Finish\n"
     ]
    }
   ],
   "source": [
    "### Task 3 using nested for and while loop to create desired outcome\n",
    "\n",
    "print(\"Human\")\n",
    "for r in range(2):\n",
    "    k = 0\n",
    "    while k < 8:\n",
    "\n",
    "        if k % 2 == 0:\n",
    "\n",
    "            print(\"Question\")\n",
    "\n",
    "        elif k > 3 and k < 7:\n",
    "\n",
    "            print(\"CELL\")\n",
    "\n",
    "        elif k == 3:\n",
    "\n",
    "            print(\"INTERLINKED\")\n",
    "\n",
    "        else:\n",
    "\n",
    "            print(\"CELL WITHIN CELLS\")\n",
    "\n",
    "        k+= 1\n",
    "\n",
    "print(\"Time to Finish\")"
   ]
  },
  {
   "cell_type": "code",
   "execution_count": null,
   "metadata": {},
   "outputs": [],
   "source": []
  }
 ],
 "metadata": {
  "kernelspec": {
   "display_name": "Python 3",
   "language": "python",
   "name": "python3"
  },
  "language_info": {
   "codemirror_mode": {
    "name": "ipython",
    "version": 3
   },
   "file_extension": ".py",
   "mimetype": "text/x-python",
   "name": "python",
   "nbconvert_exporter": "python",
   "pygments_lexer": "ipython3",
   "version": "3.7.6"
  }
 },
 "nbformat": 4,
 "nbformat_minor": 4
}
