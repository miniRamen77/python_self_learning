{
 "cells": [
  {
   "cell_type": "code",
   "execution_count": 17,
   "metadata": {
    "scrolled": true
   },
   "outputs": [
    {
     "data": {
      "text/plain": [
       "[0, 50, 100, 150, 200, 250]"
      ]
     },
     "execution_count": 17,
     "metadata": {},
     "output_type": "execute_result"
    }
   ],
   "source": [
    "### Task 1 to convert from for loop to while loop with desired outcome\n",
    "numbers = list(range(0, 110, 10))\n",
    "x = 0\n",
    "newlist = []\n",
    "while x < len(numbers):\n",
    "    t = int(numbers[x]*2.5)\n",
    "    \n",
    "    # this is modolo function checking even number and added to newlist \n",
    "    if t % 2 == 0:\n",
    "        newlist.append(t)\n",
    "    x += 1\n",
    "\n",
    "newlist\n",
    "\n"
   ]
  },
  {
   "cell_type": "code",
   "execution_count": 24,
   "metadata": {},
   "outputs": [
    {
     "name": "stdout",
     "output_type": "stream",
     "text": [
      "Joe is a replicant\n",
      "Mike is NOT a replicant\n",
      "Joi is a replicant\n",
      "Luv is a replicant\n",
      "Deckard is NOT a replicant\n",
      "Wallace is NOT a replicant\n",
      "Rachel is a replicant\n"
     ]
    }
   ],
   "source": [
    "### Task 2 Use LEN with control flow with for loop \n",
    "### Answer 1 using LEN\n",
    "\n",
    "rep = [\"Joe\", \"K\", \"Mike\", \"Joi\", \"Luv\", \"Deckard\", \"Wallace\", \"Rachel\"]\n",
    "\n",
    "for i in rep:\n",
    "    if len(i) == 3 or len(i) == 6 or len(i) == 1:\n",
    "        print (i, \"is a replicant\")\n",
    "    \n",
    "    else: \n",
    "        pritn(i, \"is NOT a replicant\")\n",
    "\n",
    "\n",
    "\n",
    "### Answer2 without using LEN\n",
    "\n",
    "rep = [\"Joe\", \"K\", \"Mike\", \"Joi\", \"Luv\", \"Deckard\", \"Wallace\", \"Rachel\"]\n",
    "\n",
    "for i in range(rep):\n",
    "    if i == 0 or i == 3 or i == 4 or i == 7:\n",
    "        print (rep[i],\"is a replicant\")\n",
    "    elif i == 2 or i == 5 or i == 6:\n",
    "        print (rep[i], \"is NOT a replicant\")\n"
   ]
  },
  {
   "cell_type": "code",
   "execution_count": 26,
   "metadata": {},
   "outputs": [
    {
     "name": "stdout",
     "output_type": "stream",
     "text": [
      "Human\n",
      "Question\n",
      "CELL WITHIN CELLS\n",
      "Question\n",
      "INTERLINKED\n",
      "Question\n",
      "CELL\n",
      "Question\n",
      "CELL WITHIN CELLS\n",
      "Question\n",
      "CELL WITHIN CELLS\n",
      "Question\n",
      "INTERLINKED\n",
      "Question\n",
      "CELL\n",
      "Question\n",
      "CELL WITHIN CELLS\n",
      "Time to Finish\n"
     ]
    }
   ],
   "source": [
    "### Task 3 using nested for and while loop to create desired outcome\n",
    "\n",
    "print(\"Human\")\n",
    "for r in range(2):\n",
    "    k = 0\n",
    "    while k < 8:\n",
    "\n",
    "        if k % 2 == 0:\n",
    "\n",
    "            print(\"Question\")\n",
    "\n",
    "        elif k > 3 and k < 7:\n",
    "\n",
    "            print(\"CELL\")\n",
    "\n",
    "        elif k == 3:\n",
    "\n",
    "            print(\"INTERLINKED\")\n",
    "\n",
    "        else:\n",
    "\n",
    "            print(\"CELL WITHIN CELLS\")\n",
    "\n",
    "        k+= 1\n",
    "\n",
    "print(\"Time to Finish\")"
   ]
  },
  {
   "cell_type": "code",
   "execution_count": 37,
   "metadata": {
    "scrolled": true
   },
   "outputs": [
    {
     "name": "stdout",
     "output_type": "stream",
     "text": [
      "START\n",
      "Y = 0\n",
      "_______\n",
      "X is equal to 4\n",
      "_______\n",
      "Y = 2\n",
      "_______\n",
      "X is equal to 5\n",
      "_______\n",
      "Y = 4\n",
      "_______\n",
      "X is equal to 6\n",
      "_______\n",
      "Y = 6\n",
      "_______\n",
      "X is equal to 7\n",
      "_______\n",
      "Y = 8\n",
      "_______\n",
      "X is equal to 8\n",
      "_______\n",
      "THE END\n"
     ]
    }
   ],
   "source": [
    "### Task 4 Nested for loop in a while loop \n",
    "\n",
    "x = 0\n",
    "y = 0\n",
    "print(\"START\")\n",
    "while y < 8:\n",
    "    for x in range (4, 9):\n",
    "        print (\"Y =\", y)\n",
    "        print (\"_______\")\n",
    "        print(\"X is equal to\",x)\n",
    "        print(\"_______\")\n",
    "        y += 2 ; x += 1\n",
    "print(\"THE END\")\n"
   ]
  },
  {
   "cell_type": "code",
   "execution_count": 115,
   "metadata": {},
   "outputs": [
    {
     "data": {
      "text/plain": [
       "('NATALIE', 'FAYE', 'CALLUM', 'TARA')"
      ]
     },
     "execution_count": 115,
     "metadata": {},
     "output_type": "execute_result"
    }
   ],
   "source": [
    "# Task 5 Using for loop to fix student names\n",
    "\n",
    "students = [\"nAtalie\", \"M\", \"Fa ye\", \" Callum\", \"Tara\"]\n",
    "s2 = [x.replace(\" \", \"\") for x in students]\n",
    "newname =[]\n",
    "for i in s2:\n",
    "    if len(i) > 1 :\n",
    "        t = i.upper()\n",
    "        newname.append(t)\n",
    "tuple(newname)\n"
   ]
  },
  {
   "cell_type": "code",
   "execution_count": 121,
   "metadata": {},
   "outputs": [
    {
     "data": {
      "text/plain": [
       "('NATALIE', 'FAYE', 'CALLUM', 'TARA')"
      ]
     },
     "execution_count": 121,
     "metadata": {},
     "output_type": "execute_result"
    }
   ],
   "source": [
    "# Task 5 solution 2\n",
    "\n",
    "students = [\"nAtalie\", \"M\", \"Fa ye\", \" Callum\", \"Tara\"]\n",
    "nameupper = [x.upper() for x in students]\n",
    "newname =[]\n",
    "for i in nameupper:\n",
    "    if len(i) >1:\n",
    "        t = i.replace(\" \",\"\")\n",
    "        newname.append(t)\n",
    "\n",
    "tuple(newname)"
   ]
  },
  {
   "cell_type": "code",
   "execution_count": 133,
   "metadata": {
    "scrolled": true
   },
   "outputs": [
    {
     "name": "stdout",
     "output_type": "stream",
     "text": [
      "Total = 1020\n",
      "Total = 2030\n",
      "Total = 3040\n",
      "End Loop\n"
     ]
    }
   ],
   "source": [
    "# Task 6 using for loop with added values from dictionary\n",
    "\n",
    "d1 = {\"k1\": [20, 30, 40], \"k2\": [1000, 2000, 3000]}\n",
    "for x in range(3):\n",
    "        \n",
    "    print(\"Total =\", d1[\"k1\"][x] + d1[\"k2\"][x])\n",
    "    \n",
    "print(\"End Loop\")\n",
    "    \n"
   ]
  }
 ],
 "metadata": {
  "kernelspec": {
   "display_name": "Python 3",
   "language": "python",
   "name": "python3"
  },
  "language_info": {
   "codemirror_mode": {
    "name": "ipython",
    "version": 3
   },
   "file_extension": ".py",
   "mimetype": "text/x-python",
   "name": "python",
   "nbconvert_exporter": "python",
   "pygments_lexer": "ipython3",
   "version": "3.7.6"
  }
 },
 "nbformat": 4,
 "nbformat_minor": 4
}
