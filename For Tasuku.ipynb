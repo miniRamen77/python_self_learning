{
 "cells": [
  {
   "cell_type": "code",
   "execution_count": null,
   "metadata": {},
   "outputs": [],
   "source": [
    "def mygreeting():\n",
    "    \"\"\"Enter the time\"\"\"\n",
    "    time = eval(input(\"Enter your time :)\"))\n",
    "    \n",
    "    if time > 5 and time < 12:\n",
    "        print(\"Tasuku~~ Good morning!\")\n",
    "    \n",
    "    elif time >= 12 and time <18:\n",
    "        print(\"Hola ~~~ Good afternoon!\")\n",
    "        \n",
    "    elif time >=18 and time <21:\n",
    "        print(\"Well ~~~ Good evening!\")\n",
    "    \n",
    "    else:\n",
    "        print(\"Tasuku~~~ Good night zzZZZ~~\")\n",
    "        \n",
    "mygreeting()"
   ]
  },
  {
   "cell_type": "code",
   "execution_count": null,
   "metadata": {},
   "outputs": [],
   "source": []
  },
  {
   "cell_type": "code",
   "execution_count": null,
   "metadata": {},
   "outputs": [],
   "source": []
  },
  {
   "cell_type": "code",
   "execution_count": null,
   "metadata": {},
   "outputs": [],
   "source": []
  },
  {
   "cell_type": "code",
   "execution_count": null,
   "metadata": {},
   "outputs": [],
   "source": []
  },
  {
   "cell_type": "code",
   "execution_count": null,
   "metadata": {},
   "outputs": [],
   "source": []
  }
 ],
 "metadata": {
  "kernelspec": {
   "display_name": "Python 3",
   "language": "python",
   "name": "python3"
  },
  "language_info": {
   "codemirror_mode": {
    "name": "ipython",
    "version": 3
   },
   "file_extension": ".py",
   "mimetype": "text/x-python",
   "name": "python",
   "nbconvert_exporter": "python",
   "pygments_lexer": "ipython3",
   "version": "3.7.6"
  }
 },
 "nbformat": 4,
 "nbformat_minor": 4
}
